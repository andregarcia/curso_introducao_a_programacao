{
 "cells": [
  {
   "cell_type": "markdown",
   "metadata": {},
   "source": [
    "# Introdução à programação e lógica de programação"
   ]
  },
  {
   "cell_type": "markdown",
   "metadata": {},
   "source": [
    "## Sumário"
   ]
  },
  {
   "cell_type": "markdown",
   "metadata": {},
   "source": [
    "### 1. Instalando o Python\n",
    "### 2. O que é o Python\n",
    "### 3. Primeiro exemplo: Hello World!\n",
    "### 4. Variáveis\n",
    "### 5. Comentários no código\n",
    "### 6. Tipos de Dados (Data-Types)\n",
    "### 7. Tipos Primitivos\n",
    "### 8. Operações comuns para tipos primitivos \n",
    "### 9. Funções\n",
    "### 10. Funções Built-in \n",
    "### 11. Estruturas de Controle "
   ]
  },
  {
   "cell_type": "markdown",
   "metadata": {},
   "source": [
    "## Instalando o Python"
   ]
  },
  {
   "cell_type": "markdown",
   "metadata": {},
   "source": [
    "#### Instalação\n",
    "\n",
    "    1. Acesse o link https://www.python.org/downloads/ e faça o download da versão 3 do python  \n",
    "    2. Execute o instalador   \n",
    "    3. Durante a instalação certifique-se de ticar a opção \"Add Python 3.X to PATH\" (Adicionar Python 3.X ao PATH) na parte      inferior da tela de instalação  \n",
    "    4. Pronto, o interpretador do Python está instalado na sua máquina  \n",
    "\n",
    "\n",
    "#### Validando a instalação\n",
    "Existem várias formas de validar se a instalação foi com sucesso. A seguir algumas delas:\n",
    "    - Verifique no menu de aplicações instaladas (no menu iniciar) se existe um diretório chamado Python\n",
    "    - Abra o prompt de comando (cmd), digite python, aperte enter e veja se aparece o texto (a versão do python pode ser diferente):\n",
    "       *Python 3.6.2 (v3.6.2:5fd33b5, Jul  8 2017, 04:57:36) [MSC v.1900 64 bit (AMD64)] on win32  \n",
    "        Type \"help\", \"copyright\", \"credits\" or \"license\" for more information.  \n",
    "        `>>>` _ *  \n",
    "        \n",
    "    - Procure por um aplicativo chamado IDLE. O IDLE é um terminal do python onde você poderá executar comandos e ver os resultados em tempo real"
   ]
  },
  {
   "cell_type": "markdown",
   "metadata": {},
   "source": [
    "## O que é o Python"
   ]
  },
  {
   "cell_type": "markdown",
   "metadata": {},
   "source": [
    "Pyhton é uma linguagem de programação de propósito geral. Com ela você pode escrever desde scripts pequenos para tarefas simples, criar automação de processos, realizar processamento e análise de dados, criar sistemas web até realizar processamento de volumes de dados grandes."
   ]
  },
  {
   "cell_type": "markdown",
   "metadata": {},
   "source": [
    "### Como executar programas e comandos do Python"
   ]
  },
  {
   "cell_type": "markdown",
   "metadata": {},
   "source": [
    "Existem algumas formas diferentes de executar comandos ou programas escritos em python:  \n",
    "    \n",
    "    1. Criando um arquivo com extensão .py que contém código python válido e executando-o.\n",
    "    2. Abrindo o terminal do python (executando python no prompt de comando, ou o IDLE que vêm com a instalação do python)\n",
    "\n",
    "No geral, o terminal do Python é usado para testar comandos (ou aprender a linguagem), enquanto arquivos com extensão .py são usados quando se está criando um programa propriamente dito."
   ]
  },
  {
   "cell_type": "markdown",
   "metadata": {},
   "source": [
    "### Como seguir este curso\n",
    "\n",
    "Você pode seguir este curso executando os exemplos e exercícios no terminal do python (do prompt de comando ou IDLE), mas fica aberto ao leitor a forma como deseja executar estes comandos.  \n",
    "Outras alternativas são: salvando arquivos com extensão .py ou abrindo o jupyter notebook e executando os comandos dentro do notebook."
   ]
  },
  {
   "cell_type": "markdown",
   "metadata": {
    "collapsed": true
   },
   "source": [
    "## Primeiro exemplo: Hello World!"
   ]
  },
  {
   "cell_type": "code",
   "execution_count": 1,
   "metadata": {
    "collapsed": false
   },
   "outputs": [
    {
     "name": "stdout",
     "output_type": "stream",
     "text": [
      "Hello world!\n"
     ]
    }
   ],
   "source": [
    "print(\"Hello world!\")"
   ]
  },
  {
   "cell_type": "markdown",
   "metadata": {},
   "source": [
    "O código acima é um exemplo clássico usado no primeiro contato de uma pessoa com o mundo da programação.  \n",
    "\n",
    "Neste código foi usada uma função do Python que imprime (i.e. exibe na tela) o texto passado a esta função.  \n",
    "\n",
    "A função tem o nome de **print** e entre os **parênteses** que segue o nome da função é passado o que a função deve exibir na tela, no caso o texto **\"Hello world!\"**.\n",
    "\n",
    "Mais a frente entraremos em detalhes sobre o que é exatamente uma função.\n"
   ]
  },
  {
   "cell_type": "markdown",
   "metadata": {},
   "source": [
    "***Exercício***: usando a função print, imprima na tela seu nome."
   ]
  },
  {
   "cell_type": "markdown",
   "metadata": {},
   "source": [
    "## Variáveis"
   ]
  },
  {
   "cell_type": "markdown",
   "metadata": {},
   "source": [
    "Variáveis são espaços de memória onde são armazenados valores a serem usados em um programa.  \n",
    "  \n",
    "Os valores podem ser número inteiros, números reais, caracteres, textos, etc  \n",
    "  \n",
    "As variáveis têm o nome definido pelo programador. A única regra é que variáveis devem começar com uma letra ou underscore (não podem começar com números, caracteres especiais, etc)"
   ]
  },
  {
   "cell_type": "code",
   "execution_count": 2,
   "metadata": {
    "collapsed": true
   },
   "outputs": [],
   "source": [
    "x = 10 ## atribuindo o valor 10 à variável x"
   ]
  },
  {
   "cell_type": "code",
   "execution_count": 3,
   "metadata": {
    "collapsed": true
   },
   "outputs": [],
   "source": [
    "x = \"c\" ## atribuindo um caractere à variável x"
   ]
  },
  {
   "cell_type": "code",
   "execution_count": 4,
   "metadata": {
    "collapsed": true
   },
   "outputs": [],
   "source": [
    "_z = 1.34 ## atribuindo um número real à variável _z"
   ]
  },
  {
   "cell_type": "markdown",
   "metadata": {},
   "source": [
    "Quando um valor é reatribuido à uma variável já existente, o valor anterior é descartado. Se a variável ainda não existe, ela é criada e armazenada em memória"
   ]
  },
  {
   "cell_type": "code",
   "execution_count": 5,
   "metadata": {
    "collapsed": false
   },
   "outputs": [
    {
     "name": "stdout",
     "output_type": "stream",
     "text": [
      "c\n",
      "1.34\n"
     ]
    }
   ],
   "source": [
    "print(x)     ## irá imprimir o último valor atribuido a x\n",
    "print(_z)"
   ]
  },
  {
   "cell_type": "markdown",
   "metadata": {},
   "source": [
    "***Exercício***: crie uma variável com o nome que desejar. Imprima esta variável. Valide se o resultado imprimido é o mesmo que você definiu"
   ]
  },
  {
   "cell_type": "markdown",
   "metadata": {},
   "source": [
    "## Comentários no código"
   ]
  },
  {
   "cell_type": "markdown",
   "metadata": {},
   "source": [
    "Você pode adicionar comentário no código, isto é, textos que não serão executados mas que pode explicar o código ou auxiliar outro programador na leitura do código.  \n",
    "\n",
    "O caractere **#** define o começo de comentários. Tudo que vem após **#** é ignorado na hora da execução do código.\n",
    "\n",
    "*Exercício: reveja a seção anterior e identifique o que é comentário e o que não é comentário*\n",
    "\n",
    "Exemplo:"
   ]
  },
  {
   "cell_type": "code",
   "execution_count": 6,
   "metadata": {
    "collapsed": true
   },
   "outputs": [],
   "source": [
    "x = 10 # isto é um comentário. A atribuição do valor 10 à variável x está antes do comentário então esta atribuição será executada\n",
    "\n",
    "# y = 30 esta linha inteira é interpretada como um comentário, então não será atribuido 30 à variável y, a linha é ignorada"
   ]
  },
  {
   "cell_type": "markdown",
   "metadata": {},
   "source": [
    "***Exercício***: adicione um comentário no código que você criou no exercício anterior. Re-execute este código e veja se continua funionando da mesma forma."
   ]
  },
  {
   "cell_type": "markdown",
   "metadata": {},
   "source": [
    "## Tipos de dados (Data Types)"
   ]
  },
  {
   "cell_type": "markdown",
   "metadata": {},
   "source": [
    "O valor de uma variável possui um tipo.\n",
    "\n",
    "O tipo da variável define o que ela representa (por exemplo, um texto, um número) e as operações que podem ser feitas com ela.\n",
    "\n",
    "A linguagem define alguns tipos básicos, chamados de tipos primitivos (são os tipos mais simples possíveis e já embutidos na linguagem). A linguagem possui tipos mais complexos e o programador pode definir seus próprios tipos também, mas isto será abordado mais a frente."
   ]
  },
  {
   "cell_type": "markdown",
   "metadata": {},
   "source": [
    "## Os tipos primitivos (Built-in types) são:"
   ]
  },
  {
   "cell_type": "markdown",
   "metadata": {},
   "source": [
    "### Numéricos"
   ]
  },
  {
   "cell_type": "markdown",
   "metadata": {},
   "source": [
    "##### int (inteiro)  \n",
    "exemplos:  \n",
    "10  \n",
    "-323  \n",
    "3042123"
   ]
  },
  {
   "cell_type": "code",
   "execution_count": 7,
   "metadata": {
    "collapsed": false
   },
   "outputs": [
    {
     "name": "stdout",
     "output_type": "stream",
     "text": [
      "10\n",
      "<class 'int'>\n"
     ]
    }
   ],
   "source": [
    "x = 10\n",
    "print(x)\n",
    "print(type(x))"
   ]
  },
  {
   "cell_type": "markdown",
   "metadata": {},
   "source": [
    "No exemplo acima usamos uma função nova, chamada ***type***. A função type exibe o tipo da variável passada a ela. Imprimimos esse resultado usando a função print.  \n",
    "\n",
    "Poderíamos também atribuir o resultado da função ***type*** a uma variável e depois imrpimi-lo, por exemplo:"
   ]
  },
  {
   "cell_type": "code",
   "execution_count": 8,
   "metadata": {
    "collapsed": false
   },
   "outputs": [
    {
     "name": "stdout",
     "output_type": "stream",
     "text": [
      "<class 'int'>\n"
     ]
    }
   ],
   "source": [
    "x = 10\n",
    "tipo_de_x = type(x)  # atribui o resultado de type(x) à variável tipo_de_x\n",
    "print(tipo_de_x)"
   ]
  },
  {
   "cell_type": "markdown",
   "metadata": {},
   "source": [
    "O código acima têm o mesmo efeito do código anterior."
   ]
  },
  {
   "cell_type": "markdown",
   "metadata": {},
   "source": [
    "***Exercício***: defina uma variável e atribua a ela um número inteiro. Imprima o valor da variável e o tipo da variável. Valide os resultados."
   ]
  },
  {
   "cell_type": "markdown",
   "metadata": {},
   "source": [
    "##### float (real, conhecido como ponto flutuante) \n",
    "exemplos:  \n",
    "1.34  \n",
    "4.1234  \n",
    "-1241243.124512312  "
   ]
  },
  {
   "cell_type": "code",
   "execution_count": 9,
   "metadata": {
    "collapsed": false
   },
   "outputs": [
    {
     "name": "stdout",
     "output_type": "stream",
     "text": [
      "1.34\n",
      "<class 'float'>\n"
     ]
    }
   ],
   "source": [
    "x = 1.34\n",
    "print(x)\n",
    "print(type(x))"
   ]
  },
  {
   "cell_type": "markdown",
   "metadata": {},
   "source": [
    "***Exercício***: defina uma variável e atribua a ela um número com casas decimais. Imprima o valor da variável e o tipo da variável. Valide os resultados."
   ]
  },
  {
   "cell_type": "markdown",
   "metadata": {},
   "source": [
    "##### boolean  \n",
    "exemplos:  \n",
    "True  \n",
    "False  "
   ]
  },
  {
   "cell_type": "code",
   "execution_count": 10,
   "metadata": {
    "collapsed": false
   },
   "outputs": [
    {
     "name": "stdout",
     "output_type": "stream",
     "text": [
      "False\n",
      "<class 'bool'>\n"
     ]
    }
   ],
   "source": [
    "v1 = False\n",
    "v2 = True\n",
    "print(v1)\n",
    "print(type(v1))"
   ]
  },
  {
   "cell_type": "markdown",
   "metadata": {},
   "source": [
    "***Exercício***: defina uma variável e atribua a ela um valor booleano. Imprima o valor da variável e o tipo da variável. Valide os resultados."
   ]
  },
  {
   "cell_type": "markdown",
   "metadata": {},
   "source": [
    "##### list\n",
    "Representam listas de valores.    \n",
    "exemplo: \n",
    "[10, 20, 1, 5, 30]  "
   ]
  },
  {
   "cell_type": "code",
   "execution_count": 11,
   "metadata": {
    "collapsed": false
   },
   "outputs": [
    {
     "name": "stdout",
     "output_type": "stream",
     "text": [
      "['a', 'b', 'c', 'd', 'e', 'f']\n",
      "<class 'list'>\n"
     ]
    }
   ],
   "source": [
    "l = ['a', 'b', 'c', 'd', 'e', 'f']   \n",
    "print(l)  \n",
    "print(type(l))  "
   ]
  },
  {
   "cell_type": "markdown",
   "metadata": {},
   "source": [
    "***Exercício***: defina uma variável e atribua a ela uma lista contendo alguns valores inteiros. Imprima o valor da variável e o tipo da variável. Valide os resultados."
   ]
  },
  {
   "cell_type": "markdown",
   "metadata": {},
   "source": [
    "##### set\n",
    "Representam conjuntos  (coleção de valores onde cada valor só ocorre uma vez)  "
   ]
  },
  {
   "cell_type": "code",
   "execution_count": 12,
   "metadata": {
    "collapsed": false
   },
   "outputs": [
    {
     "name": "stdout",
     "output_type": "stream",
     "text": [
      "{1, 2, 3, 4}\n",
      "<class 'set'>\n",
      "{1, 2, 3, 4}\n",
      "<class 'set'>\n"
     ]
    }
   ],
   "source": [
    "l = set([1,2,3,4,4])     # o valor quatro será adicionado uma única vez\n",
    "l2 = {1,2,3,4,4}\n",
    "print(l)\n",
    "print(type(l))\n",
    "print(l2)\n",
    "print(type(l2))"
   ]
  },
  {
   "cell_type": "markdown",
   "metadata": {},
   "source": [
    "***Exercício***: defina uma variável e atribua a ela um set contendo valores float. Imprima o valor da variável e o tipo da variável. Valide os resultados."
   ]
  },
  {
   "cell_type": "markdown",
   "metadata": {},
   "source": [
    "##### tuple (tupla)\n",
    "É uma lista imutável de valores"
   ]
  },
  {
   "cell_type": "code",
   "execution_count": 13,
   "metadata": {
    "collapsed": false
   },
   "outputs": [
    {
     "name": "stdout",
     "output_type": "stream",
     "text": [
      "(1, 2, 3)\n",
      "<class 'tuple'>\n"
     ]
    }
   ],
   "source": [
    "t = (1,2,3)\n",
    "print(t)\n",
    "print(type(t))"
   ]
  },
  {
   "cell_type": "markdown",
   "metadata": {},
   "source": [
    "***Exercício***: defina uma variável e atribua a ela uma tupla contendo strings. Imprima o valor da variável e o tipo da variável. Valide os resultados."
   ]
  },
  {
   "cell_type": "markdown",
   "metadata": {},
   "source": [
    "##### dict (dicionários)\n",
    "Representam mapeamentos de valores. A única restrição é que o valor à esquerda do mapeamento (a chave) deve ser imutável.  "
   ]
  },
  {
   "cell_type": "code",
   "execution_count": 14,
   "metadata": {
    "collapsed": false
   },
   "outputs": [
    {
     "name": "stdout",
     "output_type": "stream",
     "text": [
      "{'azul': 5, 'vermelho': 3, 'preto': 4}\n",
      "<class 'dict'>\n"
     ]
    }
   ],
   "source": [
    "d = {'azul' : 5, 'vermelho' : 3, 'preto' : 4}\n",
    "print(d)\n",
    "print(type(d))"
   ]
  },
  {
   "cell_type": "markdown",
   "metadata": {},
   "source": [
    "No exemplo acima mapeamos o valor 'azul' para o valor 5, 'vermelho' para o valor 3, 'preto' para o valor 4"
   ]
  },
  {
   "cell_type": "markdown",
   "metadata": {},
   "source": [
    "***Exercício***: defina uma variável e atribua a ela um dicionário contendo os nomes dos membros da sua família como chave e suas respectivas datas de nascimento como valores. Imprima o valor da variável e o tipo da variável. Valide os resultados."
   ]
  },
  {
   "cell_type": "markdown",
   "metadata": {},
   "source": [
    "## Operações comuns para os tipos built-in  \n",
    "\n",
    "Cada tipo define um conjunto de operações que podem ser realizadas com seus valores.\n"
   ]
  },
  {
   "cell_type": "markdown",
   "metadata": {},
   "source": [
    "##### Operações com tipos numéricos (int, float)"
   ]
  },
  {
   "cell_type": "code",
   "execution_count": 15,
   "metadata": {
    "collapsed": false
   },
   "outputs": [
    {
     "name": "stdout",
     "output_type": "stream",
     "text": [
      "30\n",
      "-10\n",
      "30\n",
      "6.666666666666667\n",
      "6\n",
      "1\n"
     ]
    }
   ],
   "source": [
    "print(10 + 20)   # soma\n",
    "print(10 - 20)   # subtração\n",
    "print(10 * 3)    # multiplicação\n",
    "print(20 / 3)    # divisão\n",
    "print(20 // 3)   # divisão com resultado inteiro\n",
    "print(10 % 3)    # retorna o resto de 10 dividido por 3 (módulo)"
   ]
  },
  {
   "cell_type": "code",
   "execution_count": 16,
   "metadata": {
    "collapsed": false
   },
   "outputs": [
    {
     "name": "stdout",
     "output_type": "stream",
     "text": [
      "11.3\n",
      "<class 'float'>\n"
     ]
    }
   ],
   "source": [
    "# É possível realizar operações entre mais de um tipo numérico\n",
    "x = 10 + 1.3    # operação entre int e float\n",
    "print(x)\n",
    "print(type(x))   # o tipo resultante de uma soma de um int com um float será um float"
   ]
  },
  {
   "cell_type": "markdown",
   "metadata": {},
   "source": [
    "##### Operações com tipo booleano"
   ]
  },
  {
   "cell_type": "code",
   "execution_count": 17,
   "metadata": {
    "collapsed": true
   },
   "outputs": [],
   "source": [
    "x = False\n",
    "y = True"
   ]
  },
  {
   "cell_type": "code",
   "execution_count": 18,
   "metadata": {
    "collapsed": false
   },
   "outputs": [
    {
     "data": {
      "text/plain": [
       "False"
      ]
     },
     "execution_count": 18,
     "metadata": {},
     "output_type": "execute_result"
    }
   ],
   "source": [
    "### Operador and\n",
    "x and y   # x é verdadeiro E y é verdadeiro?"
   ]
  },
  {
   "cell_type": "code",
   "execution_count": 19,
   "metadata": {
    "collapsed": false
   },
   "outputs": [
    {
     "data": {
      "text/plain": [
       "True"
      ]
     },
     "execution_count": 19,
     "metadata": {},
     "output_type": "execute_result"
    }
   ],
   "source": [
    "### Operador or\n",
    "x or y   # x é verdadeiro OU y é verdadeiro?"
   ]
  },
  {
   "cell_type": "code",
   "execution_count": 20,
   "metadata": {
    "collapsed": false
   },
   "outputs": [
    {
     "name": "stdout",
     "output_type": "stream",
     "text": [
      "False\n"
     ]
    }
   ],
   "source": [
    "### Operador not (negação)\n",
    "x = not True\n",
    "# aqui x deve ter o valor False\n",
    "print(x)"
   ]
  },
  {
   "cell_type": "markdown",
   "metadata": {},
   "source": [
    "###### Tabela verdade para a operação E (AND)\n",
    "Exibindo valores para **p**, **q**, **p E q**\n",
    "\n",
    "V representa True (verdadeiro)  \n",
    "F representa False (falso)  \n",
    "\n",
    "![Imagem1](images/tabela-verdade-conjuncao.png)"
   ]
  },
  {
   "cell_type": "markdown",
   "metadata": {},
   "source": [
    "Você pode montar a tabela verdade para operadores booleanos difrerentes, como por exemplo para o operador OU (OR) ou até mesmo para combinações dos operadores booleanos  "
   ]
  },
  {
   "cell_type": "markdown",
   "metadata": {},
   "source": [
    "##### Operações com string"
   ]
  },
  {
   "cell_type": "code",
   "execution_count": 21,
   "metadata": {
    "collapsed": false
   },
   "outputs": [
    {
     "name": "stdout",
     "output_type": "stream",
     "text": [
      "pizza de pepperoni\n"
     ]
    }
   ],
   "source": [
    "# concatenação\n",
    "a = 'pizza ' + 'de ' + 'pepperoni'\n",
    "print(a)"
   ]
  },
  {
   "cell_type": "code",
   "execution_count": 22,
   "metadata": {
    "collapsed": false
   },
   "outputs": [
    {
     "name": "stdout",
     "output_type": "stream",
     "text": [
      "pizza de pepperoni 10 234231.24124\n",
      "pizza de x e y 20\n"
     ]
    }
   ],
   "source": [
    "# formatação de strings\n",
    "a = 'pizza de %s %d %3.5f' % ('pepperoni', 10, 234231.2412351)\n",
    "print(a)\n",
    "\n",
    "d = {'sabor' : 'x', 'sabor2' : 'y'}\n",
    "a = 'pizza de {sabor} e {sabor2} {z}'.format(sabor='x', sabor2='y', z=20)\n",
    "print(a)"
   ]
  },
  {
   "cell_type": "code",
   "execution_count": 23,
   "metadata": {
    "collapsed": false
   },
   "outputs": [
    {
     "name": "stdout",
     "output_type": "stream",
     "text": [
      "Primeiro caractere:  p\n",
      "Segundo caractere:  i\n",
      "Primeiros dois caracteres:  a de pepperoni\n"
     ]
    }
   ],
   "source": [
    "##### acessando um caractere de uma string\n",
    "a = 'pizza de pepperoni'\n",
    "primeiro_caractere = a[0]\n",
    "print(\"Primeiro caractere: \", primeiro_caractere)\n",
    "\n",
    "segundo_caractere = a[1]\n",
    "print(\"Segundo caractere: \", segundo_caractere)\n",
    "\n",
    "primeiros_dois_caracteres = a[4:100]\n",
    "print(\"Primeiros dois caracteres: \", primeiros_dois_caracteres)"
   ]
  },
  {
   "cell_type": "code",
   "execution_count": 24,
   "metadata": {
    "collapsed": false
   },
   "outputs": [
    {
     "name": "stdout",
     "output_type": "stream",
     "text": [
      "O cliente deseja pedir 10 pizzas\n"
     ]
    }
   ],
   "source": [
    "# operações entre string e int\n",
    "a = 'O cliente deseja pedir ' + str(10) + ' pizzas'\n",
    "print(a)"
   ]
  },
  {
   "cell_type": "markdown",
   "metadata": {},
   "source": [
    "##### operações com set"
   ]
  },
  {
   "cell_type": "code",
   "execution_count": 25,
   "metadata": {
    "collapsed": false
   },
   "outputs": [
    {
     "name": "stdout",
     "output_type": "stream",
     "text": [
      "{1, 2, 3}\n",
      "Help on class set in module builtins:\n",
      "\n",
      "class set(object)\n",
      " |  set() -> new empty set object\n",
      " |  set(iterable) -> new set object\n",
      " |  \n",
      " |  Build an unordered collection of unique elements.\n",
      " |  \n",
      " |  Methods defined here:\n",
      " |  \n",
      " |  __and__(self, value, /)\n",
      " |      Return self&value.\n",
      " |  \n",
      " |  __contains__(...)\n",
      " |      x.__contains__(y) <==> y in x.\n",
      " |  \n",
      " |  __eq__(self, value, /)\n",
      " |      Return self==value.\n",
      " |  \n",
      " |  __ge__(self, value, /)\n",
      " |      Return self>=value.\n",
      " |  \n",
      " |  __getattribute__(self, name, /)\n",
      " |      Return getattr(self, name).\n",
      " |  \n",
      " |  __gt__(self, value, /)\n",
      " |      Return self>value.\n",
      " |  \n",
      " |  __iand__(self, value, /)\n",
      " |      Return self&=value.\n",
      " |  \n",
      " |  __init__(self, /, *args, **kwargs)\n",
      " |      Initialize self.  See help(type(self)) for accurate signature.\n",
      " |  \n",
      " |  __ior__(self, value, /)\n",
      " |      Return self|=value.\n",
      " |  \n",
      " |  __isub__(self, value, /)\n",
      " |      Return self-=value.\n",
      " |  \n",
      " |  __iter__(self, /)\n",
      " |      Implement iter(self).\n",
      " |  \n",
      " |  __ixor__(self, value, /)\n",
      " |      Return self^=value.\n",
      " |  \n",
      " |  __le__(self, value, /)\n",
      " |      Return self<=value.\n",
      " |  \n",
      " |  __len__(self, /)\n",
      " |      Return len(self).\n",
      " |  \n",
      " |  __lt__(self, value, /)\n",
      " |      Return self<value.\n",
      " |  \n",
      " |  __ne__(self, value, /)\n",
      " |      Return self!=value.\n",
      " |  \n",
      " |  __new__(*args, **kwargs) from builtins.type\n",
      " |      Create and return a new object.  See help(type) for accurate signature.\n",
      " |  \n",
      " |  __or__(self, value, /)\n",
      " |      Return self|value.\n",
      " |  \n",
      " |  __rand__(self, value, /)\n",
      " |      Return value&self.\n",
      " |  \n",
      " |  __reduce__(...)\n",
      " |      Return state information for pickling.\n",
      " |  \n",
      " |  __repr__(self, /)\n",
      " |      Return repr(self).\n",
      " |  \n",
      " |  __ror__(self, value, /)\n",
      " |      Return value|self.\n",
      " |  \n",
      " |  __rsub__(self, value, /)\n",
      " |      Return value-self.\n",
      " |  \n",
      " |  __rxor__(self, value, /)\n",
      " |      Return value^self.\n",
      " |  \n",
      " |  __sizeof__(...)\n",
      " |      S.__sizeof__() -> size of S in memory, in bytes\n",
      " |  \n",
      " |  __sub__(self, value, /)\n",
      " |      Return self-value.\n",
      " |  \n",
      " |  __xor__(self, value, /)\n",
      " |      Return self^value.\n",
      " |  \n",
      " |  add(...)\n",
      " |      Add an element to a set.\n",
      " |      \n",
      " |      This has no effect if the element is already present.\n",
      " |  \n",
      " |  clear(...)\n",
      " |      Remove all elements from this set.\n",
      " |  \n",
      " |  copy(...)\n",
      " |      Return a shallow copy of a set.\n",
      " |  \n",
      " |  difference(...)\n",
      " |      Return the difference of two or more sets as a new set.\n",
      " |      \n",
      " |      (i.e. all elements that are in this set but not the others.)\n",
      " |  \n",
      " |  difference_update(...)\n",
      " |      Remove all elements of another set from this set.\n",
      " |  \n",
      " |  discard(...)\n",
      " |      Remove an element from a set if it is a member.\n",
      " |      \n",
      " |      If the element is not a member, do nothing.\n",
      " |  \n",
      " |  intersection(...)\n",
      " |      Return the intersection of two sets as a new set.\n",
      " |      \n",
      " |      (i.e. all elements that are in both sets.)\n",
      " |  \n",
      " |  intersection_update(...)\n",
      " |      Update a set with the intersection of itself and another.\n",
      " |  \n",
      " |  isdisjoint(...)\n",
      " |      Return True if two sets have a null intersection.\n",
      " |  \n",
      " |  issubset(...)\n",
      " |      Report whether another set contains this set.\n",
      " |  \n",
      " |  issuperset(...)\n",
      " |      Report whether this set contains another set.\n",
      " |  \n",
      " |  pop(...)\n",
      " |      Remove and return an arbitrary set element.\n",
      " |      Raises KeyError if the set is empty.\n",
      " |  \n",
      " |  remove(...)\n",
      " |      Remove an element from a set; it must be a member.\n",
      " |      \n",
      " |      If the element is not a member, raise a KeyError.\n",
      " |  \n",
      " |  symmetric_difference(...)\n",
      " |      Return the symmetric difference of two sets as a new set.\n",
      " |      \n",
      " |      (i.e. all elements that are in exactly one of the sets.)\n",
      " |  \n",
      " |  symmetric_difference_update(...)\n",
      " |      Update a set with the symmetric difference of itself and another.\n",
      " |  \n",
      " |  union(...)\n",
      " |      Return the union of sets as a new set.\n",
      " |      \n",
      " |      (i.e. all elements that are in either set.)\n",
      " |  \n",
      " |  update(...)\n",
      " |      Update a set with the union of itself and others.\n",
      " |  \n",
      " |  ----------------------------------------------------------------------\n",
      " |  Data and other attributes defined here:\n",
      " |  \n",
      " |  __hash__ = None\n",
      "\n"
     ]
    }
   ],
   "source": [
    "# listando as operações\n",
    "print(set((1,2,3)))\n",
    "\n",
    "#A função help exibe uma descrição do tipo que passamos para esta função. Neste caso estamos imprimindo o help do tipo 'set'\n",
    "help(set)    \n"
   ]
  },
  {
   "cell_type": "markdown",
   "metadata": {},
   "source": [
    "As operações de set (abaixo) podem ser encontradas no ***help(set)*** que foi executado anteriormente."
   ]
  },
  {
   "cell_type": "code",
   "execution_count": 26,
   "metadata": {
    "collapsed": false
   },
   "outputs": [
    {
     "name": "stdout",
     "output_type": "stream",
     "text": [
      "Adicionando elemento:  {10, 1, 2, 3}\n",
      "Adicionando vários elementos:  {1, 2, 3, 4, 5}\n",
      "União de dois sets:  {1, 2, 3} {1, 2, 3, 4, 5}\n",
      "Intersecção de dois sets: {1, 2, 3} {3}\n"
     ]
    }
   ],
   "source": [
    "# adicionando um elemento a um set\n",
    "s1 = set([1,2,3])\n",
    "s1.add(10)\n",
    "print(\"Adicionando elemento: \", s1)\n",
    "\n",
    "# adicionando varios elementos a um set\n",
    "s1, l2 = set([1,2,3]), [3,4,5]\n",
    "s1.update(l2)\n",
    "print(\"Adicionando vários elementos: \", s1)\n",
    "\n",
    "# união de dois sets\n",
    "s1, s2 = set([1,2,3]), set([3,4,5])\n",
    "s3 = s1.union(s2)\n",
    "print(\"União de dois sets: \", s1, s3)\n",
    "\n",
    "# intersecção de dois sets\n",
    "s1, s2 = set([1,2,3]), set([3,4,5])\n",
    "s3 = s1.intersection(s2)\n",
    "print(\"Intersecção de dois sets:\", s1, s3)"
   ]
  },
  {
   "cell_type": "markdown",
   "metadata": {},
   "source": [
    "##### Operações com listas"
   ]
  },
  {
   "cell_type": "code",
   "execution_count": 27,
   "metadata": {
    "collapsed": false
   },
   "outputs": [
    {
     "name": "stdout",
     "output_type": "stream",
     "text": [
      "[1, 2, 3, 4, 5, 6]\n",
      "[1, 2, 3] [4, 5, 6]\n",
      "[1, 2, 3, 4, 5, 6]\n"
     ]
    }
   ],
   "source": [
    "# concatenação de listas\n",
    "l1 = [1,2,3]\n",
    "l2 = [4,5,6]\n",
    "print(l1 + l2)\n",
    "print(l1, l2)\n",
    "#help(list)\n",
    "l1.extend(l2)\n",
    "print(l1)"
   ]
  },
  {
   "cell_type": "code",
   "execution_count": 28,
   "metadata": {
    "collapsed": false
   },
   "outputs": [
    {
     "name": "stdout",
     "output_type": "stream",
     "text": [
      "10\n",
      "20\n",
      "30\n"
     ]
    }
   ],
   "source": [
    "# acessando um índice de de uma lista\n",
    "l1 = [10, 20, 30]\n",
    "item_0_da_lista = l1[0]\n",
    "item_1_da_lista = l1[1]\n",
    "item_2_da_lista = l1[2]\n",
    "print(item_0_da_lista)\n",
    "print(item_1_da_lista)\n",
    "print(item_2_da_lista)"
   ]
  },
  {
   "cell_type": "code",
   "execution_count": 29,
   "metadata": {
    "collapsed": false
   },
   "outputs": [
    {
     "name": "stdout",
     "output_type": "stream",
     "text": [
      "[40, 50, 60, 10]\n"
     ]
    }
   ],
   "source": [
    "# acessando uma 'fatia' da lista\n",
    "l1 = [0, 10, 20, 30, 40, 50, 60]\n",
    "items_4_a_6 = l1[4:7] + l1[1:2]\n",
    "print(items_4_a_6)"
   ]
  },
  {
   "cell_type": "code",
   "execution_count": 30,
   "metadata": {
    "collapsed": false
   },
   "outputs": [
    {
     "name": "stdout",
     "output_type": "stream",
     "text": [
      "[0, 10, 20, 30, 200]\n"
     ]
    }
   ],
   "source": [
    "# adicionando um elemento ao final da lista\n",
    "l1 = [0, 10, 20, 30]\n",
    "l1.append(200)\n",
    "print(l1)"
   ]
  },
  {
   "cell_type": "code",
   "execution_count": 31,
   "metadata": {
    "collapsed": false
   },
   "outputs": [
    {
     "name": "stdout",
     "output_type": "stream",
     "text": [
      "Ultimo item:  60\n",
      "Penultimo item:  [0, 20, 40]\n"
     ]
    }
   ],
   "source": [
    "# acessando um elemento a partir do fim da lista\n",
    "l1 = [0, 10, 20, 30, 40, 50, 60]\n",
    "ultimo_item = l1[-1]\n",
    "penultimo_item = l1[-8:-2:2]\n",
    "print(\"Ultimo item: \", ultimo_item)\n",
    "print(\"Penultimo item: \", penultimo_item)"
   ]
  },
  {
   "cell_type": "markdown",
   "metadata": {},
   "source": [
    "##### operações com dicionários"
   ]
  },
  {
   "cell_type": "code",
   "execution_count": 32,
   "metadata": {
    "collapsed": false
   },
   "outputs": [
    {
     "name": "stdout",
     "output_type": "stream",
     "text": [
      "100\n"
     ]
    }
   ],
   "source": [
    "# acessando um elemento do dicionário\n",
    "d = {'azul' : 5, 'preto' : 10, 0 : 100, 1 : 200}\n",
    "contagem_azul = d[0]\n",
    "print(contagem_azul)"
   ]
  },
  {
   "cell_type": "code",
   "execution_count": 33,
   "metadata": {
    "collapsed": false
   },
   "outputs": [
    {
     "name": "stdout",
     "output_type": "stream",
     "text": [
      "{'azul': 5, 'preto': 10, 0: 100, 1: 200, 'branco': 10}\n"
     ]
    }
   ],
   "source": [
    "# adicionando um valor a um dicionário\n",
    "d['branco'] = 10\n",
    "print(d)"
   ]
  },
  {
   "cell_type": "code",
   "execution_count": 34,
   "metadata": {
    "collapsed": false
   },
   "outputs": [
    {
     "name": "stdout",
     "output_type": "stream",
     "text": [
      "Antes:  {'azul': 5, 'preto': 10, 0: 100, 1: 200, 'branco': 10}\n",
      "Depois:  {'azul': 5, 'preto': 10, 0: 100, 1: 200}\n"
     ]
    }
   ],
   "source": [
    "# removendo um valor de um dicionário\n",
    "print(\"Antes: \", d)\n",
    "del d['branco']\n",
    "print(\"Depois: \", d)"
   ]
  },
  {
   "cell_type": "markdown",
   "metadata": {},
   "source": [
    "## Funções"
   ]
  },
  {
   "cell_type": "markdown",
   "metadata": {},
   "source": [
    "As funções são sequencias de operações com a finalidade de executar uma determinada tarefa.  \n",
    "  \n",
    "No geral estas funções recebem valores de entrada e retornam valores de saída.  \n",
    "\n",
    "A linguagem Python fornece algumas funções já implementadas (por exemplo o print(...) é uma função definida pela linguagem), mas o programador pode também definir suas funções.  \n",
    "\n",
    "A grande vantagem de definir uma sequencia de código como uma função é a capacidade de reutilizar o código desta função sem precisar reescrevê-lo. Basta executar a função pelo nome dado a ela. Reusabilidade de código é um fator muito importante.  \n",
    "\n",
    "Por exemplo, upodemos criar uma função que calcula a raiz quadrada de um número:  "
   ]
  },
  {
   "cell_type": "code",
   "execution_count": 35,
   "metadata": {
    "collapsed": true
   },
   "outputs": [],
   "source": [
    "def quadrado(x):          ## def diz que definiremos uma função. Em sequencia vem o nome da função que escolhemos e entre parenteses os parâmetros que a função recebe\n",
    "    resultado = x*x       ## aqui começa as operações a serem executadas na função\n",
    "    return resultado      ## aqui retornamos o resultado para quem usará esta função"
   ]
  },
  {
   "cell_type": "markdown",
   "metadata": {},
   "source": [
    "Usando esta função:"
   ]
  },
  {
   "cell_type": "code",
   "execution_count": 36,
   "metadata": {
    "collapsed": false
   },
   "outputs": [
    {
     "name": "stdout",
     "output_type": "stream",
     "text": [
      "100\n"
     ]
    }
   ],
   "source": [
    "r = quadrado(10)   # aqui executamos a função e guardamos o resultado (o retorno da função) na variável r\n",
    "print(r)"
   ]
  },
  {
   "cell_type": "markdown",
   "metadata": {},
   "source": [
    "Uma função pode não conter argumentos e/ou não retornar nada. Por exemplo, esta função não retorna nada:"
   ]
  },
  {
   "cell_type": "code",
   "execution_count": 37,
   "metadata": {
    "collapsed": true
   },
   "outputs": [],
   "source": [
    "def imprime_quantidade(quantidade):\n",
    "    print(\"A quantidade de produtos é %d\" % (quantidade,))"
   ]
  },
  {
   "cell_type": "code",
   "execution_count": 38,
   "metadata": {
    "collapsed": false
   },
   "outputs": [
    {
     "name": "stdout",
     "output_type": "stream",
     "text": [
      "A quantidade de produtos é 231\n",
      "A quantidade de produtos é 30\n",
      "A quantidade de produtos é 50\n"
     ]
    }
   ],
   "source": [
    "imprime_quantidade(231)\n",
    "imprime_quantidade(30)\n",
    "imprime_quantidade(50)"
   ]
  },
  {
   "cell_type": "markdown",
   "metadata": {},
   "source": [
    "Esta função não recebe nenhum argumento e não retorna nada:"
   ]
  },
  {
   "cell_type": "code",
   "execution_count": 39,
   "metadata": {
    "collapsed": true
   },
   "outputs": [],
   "source": [
    "def imprime_título():\n",
    "    print(\"Curso de lógica de programação\")"
   ]
  },
  {
   "cell_type": "markdown",
   "metadata": {},
   "source": [
    "# Funções built-in"
   ]
  },
  {
   "cell_type": "markdown",
   "metadata": {},
   "source": [
    "O python dispõe de algumas funções já implementadas.  \n",
    "\n",
    "Alguns exemplos são:  \n",
    "    - len: retorna a quantidade de itens em uma lista\n",
    "    - sum: recebe uma lista e retorna a soma da lista\n",
    "    - map: aplica uma função para cada elemento de uma lista\n",
    "    - help: mostra os métodos e propriedades de um tipo\n",
    "    - max: retorna o máximo de uma lista\n",
    "    - min: retorna o mínimo de uma lista\n",
    "    - print: imprime valores na tela\n",
    "    - ...\n",
    "\n",
    "https://docs.python.org/3.2/library/functions.html  \n",
    "\n",
    "Abaixo alguns exemplos do uso de funções do python:"
   ]
  },
  {
   "cell_type": "code",
   "execution_count": 40,
   "metadata": {
    "collapsed": false
   },
   "outputs": [
    {
     "name": "stdout",
     "output_type": "stream",
     "text": [
      "4\n",
      "10\n",
      "4\n",
      "1\n"
     ]
    }
   ],
   "source": [
    "l = [1,2,3,4]\n",
    "print(len(l))   # imprimindo o resultado da função len()\n",
    "print(sum(l))   # função sum\n",
    "print(max(l))   # função max\n",
    "print(min(l))   # função min"
   ]
  },
  {
   "cell_type": "markdown",
   "metadata": {},
   "source": [
    "# Estruturas de controle"
   ]
  },
  {
   "cell_type": "markdown",
   "metadata": {},
   "source": [
    "#### Estrutura **if**"
   ]
  },
  {
   "cell_type": "markdown",
   "metadata": {},
   "source": [
    "Avalia uma condição e executa um ou mais comandos caso esta condição seja verdade  \n",
    "\n",
    "Uma condição é um teste (ou uma avaliação) que fazemos. Por exemplo, no meio do código de um software de estoque, poderá ser necessário avaliar se existe estoque de um dado produto antes de executar uma ação (por exemplo, vendê-lo ao cliente).  \n",
    "\n",
    "Neste caso, se temos a quantidade de produtos em estoque em uma variável chamada ***numero_de_produtos***, podemos avaliar se o valor desta variável é maior do que 0.  \n",
    "  \n",
    "Exemplo:"
   ]
  },
  {
   "cell_type": "code",
   "execution_count": 41,
   "metadata": {
    "collapsed": false
   },
   "outputs": [
    {
     "name": "stdout",
     "output_type": "stream",
     "text": [
      "Temos estoque\n",
      "O valor de numero_de_produtos é consistente\n",
      "Qtd atual de produtos= 99\n"
     ]
    }
   ],
   "source": [
    "numero_de_produtos = 100\n",
    "venda_concluida = True\n",
    "\n",
    "# valida se temos estoque\n",
    "if numero_de_produtos > 0:\n",
    "    print(\"Temos estoque\")\n",
    "\n",
    "x = \"abc\"    \n",
    "\n",
    "#valida se o estoque é maior ou igual a zero \n",
    "# (por exemplo se o núero de produtos é consistente, considerando que um valor negativo é uma inconsistência no sistema)\n",
    "if numero_de_produtos >= 0:\n",
    "    print(\"O valor de numero_de_produtos é consistente\")\n",
    "\n",
    "if numero_de_produtos < 0:\n",
    "    print(\"O Valor de numero_de_produtos é inconsistente\")\n",
    "\n",
    "if numero_de_produtos <= 0:\n",
    "    print(\"O valor de numero_de_produtos é menor ou igual a zero\")\n",
    "\n",
    "if numero_de_produtos == 0:\n",
    "    print(\"Não temos estoque\")\n",
    "    \n",
    "## decrementa o número de produtos\n",
    "## aqui avaliamos duas condições usando o operador and\n",
    "## avaliamos se o número de produtos é maior ou igual a zero E se a venda foi concluida\n",
    "## caso sim, subtraimos 1 do valor de numero_de_produtos\n",
    "if numero_de_produtos>0 and venda_concluida:\n",
    "    numero_de_produtos = numero_de_produtos - 1\n",
    "\n",
    "print(\"Qtd atual de produtos=\", numero_de_produtos)"
   ]
  },
  {
   "cell_type": "markdown",
   "metadata": {},
   "source": [
    "Quando a condição de um if é avaliada, e seu valor é True, o bloco de código executado é o bloco identado que segue a condição (ou seja, todas as linhas de código com um espaçamento em relação à lateral esquerda do editor)  \n",
    "\n",
    "Por exemplo:"
   ]
  },
  {
   "cell_type": "code",
   "execution_count": 42,
   "metadata": {
    "collapsed": false
   },
   "outputs": [
    {
     "name": "stdout",
     "output_type": "stream",
     "text": [
      "Esta linha será executada se x > 0\n",
      "Esta linha também será executada se x > 0\n",
      "Esta linha também será executada\n",
      "Esta linha já está fora do bloco do if\n",
      "Repare no código que o espaçamento (identação desta linha) em relação à lateral esquerda é menor do que a identação dentro do bloco if\n"
     ]
    }
   ],
   "source": [
    "x = 10\n",
    "if x > 0:\n",
    "    print(\"Esta linha será executada se x > 0\")     # faz parte do bloco if\n",
    "    print(\"Esta linha também será executada se x > 0\") # faz parte do bloco if\n",
    "    print(\"Esta linha também será executada\") # faz parte do bloco if\n",
    "print(\"Esta linha já está fora do bloco do if\") # não faz parte do bloco if\n",
    "print(\"Repare no código que o espaçamento (identação desta linha) em relação à lateral esquerda é menor do que a identação dentro do bloco if\")\n",
    "\n",
    "if x < 0: #iniciando outro bloco if\n",
    "    print(\"Esta linha de código não será executada já que x é maior que zero (a avaliação do if resultou em False)\") # faz parte do segundo bloco if\n"
   ]
  },
  {
   "cell_type": "markdown",
   "metadata": {},
   "source": [
    "Podemos opcionalmente testar várias condições if em sequencia. Esta estrutura (que é parte do if) é chamada de else if, e no python é chamada de **elif**.  \n",
    "\n",
    "A condição no **elif** é testada somente se o if anterior for false.  \n",
    "\n",
    "Por exemplo:  "
   ]
  },
  {
   "cell_type": "code",
   "execution_count": 43,
   "metadata": {
    "collapsed": false
   },
   "outputs": [
    {
     "name": "stdout",
     "output_type": "stream",
     "text": [
      "X é maior do que 5\n"
     ]
    }
   ],
   "source": [
    "x = 10\n",
    "if x>20:\n",
    "    print(\"X é maior do que 20\")\n",
    "elif x>5:\n",
    "    print(\"X é maior do que 5\")"
   ]
  },
  {
   "cell_type": "markdown",
   "metadata": {},
   "source": [
    "Vários elif podem ser definidos em sequencia e as avaliações do bloco if/elif/elif... é abortada quando a primeira condição for avaliada como True  \n",
    "\n",
    "Exemplo:  "
   ]
  },
  {
   "cell_type": "code",
   "execution_count": 44,
   "metadata": {
    "collapsed": false
   },
   "outputs": [
    {
     "name": "stdout",
     "output_type": "stream",
     "text": [
      "X é maior do que 5\n"
     ]
    }
   ],
   "source": [
    "x = 10\n",
    "if x>20:  \n",
    "    print(\"X é maior do que 20\")   # não será executado porque x não é maior do que 20\n",
    "elif x>15:\n",
    "    print(\"X é maior do que 15\")   # não será executado porque x não é maior do que 15\n",
    "elif x>10:\n",
    "    print(\"X é maior do que 10\")   # não será executado porque x não é maior do que 10\n",
    "elif x>5:\n",
    "    print(\"X é maior do que 5\")    # será executado porque x é maior do que 5. O bloco if/elif termina aqui, já que avaliou como True \n",
    "elif x>0:                          # não será executado porque uma condição anterior já foi avaliada como True\n",
    "    print(\"X é maior do que 0\")    "
   ]
  },
  {
   "cell_type": "markdown",
   "metadata": {},
   "source": [
    "#### Estrutura while"
   ]
  },
  {
   "cell_type": "code",
   "execution_count": 45,
   "metadata": {
    "collapsed": false
   },
   "outputs": [
    {
     "name": "stdout",
     "output_type": "stream",
     "text": [
      "Produtos filtrados: \n",
      "[{'cor': 'verde', 'tamanho': 'S'}, {'cor': 'verde', 'tamanho': 'G'}]\n",
      "[{'cor': 'azul', 'tamanho': 'M'},\n",
      " {'cor': 'azul', 'tamanho': 'P'},\n",
      " {'cor': 'azul', 'tamanho': 'G'}]\n"
     ]
    }
   ],
   "source": [
    "import pprint\n",
    "\n",
    "def cor_coincide(produto, cor):\n",
    "    return produto['cor'] == cor\n",
    "    \n",
    "def filtra_produtos_com_base_em_cor(produtos, cor):\n",
    "    qtd_produtos = len(produtos)    # obtém a quantidade de produtos na lista\n",
    "    indice_atual = 0                # inicializa um contador para percorrer a lista (será o índice que vamos acessar)\n",
    "    filtrados = []                  # a lista de items da cor que desejamos, inicializamos vazia\n",
    "    while indice_atual < qtd_produtos:     # loop while (enquanto o indice que estamos for menor do que a qtd de produtos)\n",
    "        produto = produtos[indice_atual]   # obtem o produto do indice atual\n",
    "        if cor_coincide(produto, cor):                 # valida se a cor do produto é a cor que desejamos\n",
    "            filtrados.append(produto)             # adiciona o produto da cor desejada ao final da lista\n",
    "        indice_atual = indice_atual + 1       # incrementa o contador para validarmos a próximo item\n",
    "    return filtrados                # retorna o resultado\n",
    "\n",
    "produtos = [\n",
    "    {'cor' : 'azul',\n",
    "    'tamanho' : 'M'}, \n",
    "    {'cor' : 'azul',\n",
    "    'tamanho' : 'P'}, \n",
    "    {'cor' : 'verde',\n",
    "    'tamanho' : 'S'}, \n",
    "    {'cor' : 'azul',\n",
    "    'tamanho' : 'G'}, \n",
    "    {'cor' : 'verde',\n",
    "    'tamanho' : 'G'}, \n",
    "    {'cor' : 'marrom',\n",
    "    'tamanho' : 'G'}]\n",
    "\n",
    "produtos_verdes = filtra_produtos_com_base_em_cor(produtos, 'verde')\n",
    "produtos_azuis = filtra_produtos_com_base_em_cor(produtos, 'azul')\n",
    "print(\"Produtos filtrados: \")\n",
    "pprint.pprint(produtos_verdes)\n",
    "pprint.pprint(produtos_azuis)\n",
    "\n",
    "\n",
    "    "
   ]
  },
  {
   "cell_type": "markdown",
   "metadata": {},
   "source": [
    "#### Estrutura **for**"
   ]
  },
  {
   "cell_type": "markdown",
   "metadata": {},
   "source": [
    "A estrutura for simplifica o while quando precisamos iterar sobre uma lista.\n",
    "\n",
    "Pordemos reescrever a função substituindo o while pelo for filtra_produtos_com_base_em_cor:"
   ]
  },
  {
   "cell_type": "code",
   "execution_count": 46,
   "metadata": {
    "collapsed": true
   },
   "outputs": [],
   "source": [
    "def filtra_produtos_com_base_em_cor(produtos, cor): \n",
    "    filtrados = []                  \n",
    "    for produto in produtos:     # loop for (para cada produto em produtos faça:)   \n",
    "        if cor_coincide(produto, cor):                 \n",
    "            filtrados.append(produto)             \n",
    "    return filtrados\n"
   ]
  },
  {
   "cell_type": "code",
   "execution_count": 47,
   "metadata": {
    "collapsed": false
   },
   "outputs": [
    {
     "name": "stdout",
     "output_type": "stream",
     "text": [
      "[{'cor': 'azul', 'tamanho': 'M'},\n",
      " {'cor': 'azul', 'tamanho': 'P'},\n",
      " {'cor': 'azul', 'tamanho': 'G'}]\n"
     ]
    }
   ],
   "source": [
    "produtos_azuis = filtra_produtos_com_base_em_cor(produtos, 'azul')\n",
    "pprint.pprint(produtos_azuis)"
   ]
  }
 ],
 "metadata": {
  "kernelspec": {
   "display_name": "Python 3",
   "language": "python",
   "name": "python3"
  },
  "language_info": {
   "codemirror_mode": {
    "name": "ipython",
    "version": 3
   },
   "file_extension": ".py",
   "mimetype": "text/x-python",
   "name": "python",
   "nbconvert_exporter": "python",
   "pygments_lexer": "ipython3",
   "version": "3.6.0"
  }
 },
 "nbformat": 4,
 "nbformat_minor": 1
}
